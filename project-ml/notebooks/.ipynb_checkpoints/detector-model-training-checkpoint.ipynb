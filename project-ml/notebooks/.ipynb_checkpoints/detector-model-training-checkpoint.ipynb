{
 "cells": [
  {
   "cell_type": "markdown",
   "metadata": {},
   "source": [
    "# Training on YOLO using Darkflow"
   ]
  },
  {
   "cell_type": "code",
   "execution_count": 1,
   "metadata": {},
   "outputs": [
    {
     "name": "stderr",
     "output_type": "stream",
     "text": [
      "/home/haijie/anaconda3/envs/tf1.6/lib/python3.6/site-packages/h5py/__init__.py:36: FutureWarning: Conversion of the second argument of issubdtype from `float` to `np.floating` is deprecated. In future, it will be treated as `np.float64 == np.dtype(float).type`.\n",
      "  from ._conv import register_converters as _register_converters\n"
     ]
    }
   ],
   "source": [
    "from darkflow.net.build import TFNet\n",
    "import os"
   ]
  },
  {
   "cell_type": "code",
   "execution_count": 2,
   "metadata": {},
   "outputs": [],
   "source": [
    "# change working directory to Darkflow folder\n",
    "os.chdir('../../packages/darkflow')"
   ]
  },
  {
   "cell_type": "code",
   "execution_count": 3,
   "metadata": {},
   "outputs": [],
   "source": [
    "# model configuration file\n",
    "model = 'cfg/yolov2-tiny-voc-booklabel.cfg'\n",
    "# folder for loading and saving checkpoints\n",
    "backup = 'ckpt'\n",
    "# weight file or checkpoint number to be loaded\n",
    "load = 'bin/yolov2-tiny-voc.weights'\n",
    "\n",
    "# label file for the dataset\n",
    "labels = '../../data/librarybooks/labels.txt'\n",
    "#labels = '/home/haijie/machine-learning/temp/usb-ml/datasets/COCOText/labels.txt'\n",
    "\n",
    "# training image folder\n",
    "dataset = '../../data/librarybooks/images/train'\n",
    "#dataset = '/home/haijie/machine-learning/temp/usb-ml/datasets/COCOText/images/train'\n",
    "\n",
    "# training ground truth annotation folder\n",
    "annotation = '../../data/librarybooks/annotations/train'\n",
    "#annotation = '/home/haijie/machine-learning/temp/usb-ml/datasets/COCOText/annotations/train'\n",
    "\n",
    "# number of epochs\n",
    "epoch = 1\n",
    "# batch size\n",
    "batch = 32\n",
    "# folder for saving Tensorboard summary\n",
    "summary = '../../packages/darkflow/summary/'\n",
    "# number of training samples before saving a checkpoint\n",
    "save = 51200\n",
    "# flag to save the final weights and model to .pb file\n",
    "savepb = True\n",
    "# percentage of GPU to be utilized\n",
    "gpu = 0.8"
   ]
  },
  {
   "cell_type": "code",
   "execution_count": 4,
   "metadata": {},
   "outputs": [
    {
     "name": "stdout",
     "output_type": "stream",
     "text": [
      "Parsing cfg/yolov2-tiny-voc-booklabel.cfg\n",
      "Loading None ...\n",
      "Finished in 3.910064697265625e-05s\n",
      "\n",
      "Building net ...\n",
      "Source | Train? | Layer description                | Output size\n",
      "-------+--------+----------------------------------+---------------\n",
      "       |        | input                            | (?, 416, 416, 3)\n",
      " Init  |  Yep!  | conv 3x3p1_1  +bnorm  leaky      | (?, 416, 416, 16)\n",
      " Load  |  Yep!  | maxp 2x2p0_2                     | (?, 208, 208, 16)\n",
      " Init  |  Yep!  | conv 3x3p1_1  +bnorm  leaky      | (?, 208, 208, 32)\n",
      " Load  |  Yep!  | maxp 2x2p0_2                     | (?, 104, 104, 32)\n",
      " Init  |  Yep!  | conv 3x3p1_1  +bnorm  leaky      | (?, 104, 104, 64)\n",
      " Load  |  Yep!  | maxp 2x2p0_2                     | (?, 52, 52, 64)\n",
      " Init  |  Yep!  | conv 3x3p1_1  +bnorm  leaky      | (?, 52, 52, 128)\n",
      " Load  |  Yep!  | maxp 2x2p0_2                     | (?, 26, 26, 128)\n",
      " Init  |  Yep!  | conv 3x3p1_1  +bnorm  leaky      | (?, 26, 26, 256)\n",
      " Load  |  Yep!  | maxp 2x2p0_2                     | (?, 13, 13, 256)\n",
      " Init  |  Yep!  | conv 3x3p1_1  +bnorm  leaky      | (?, 13, 13, 512)\n",
      " Load  |  Yep!  | maxp 2x2p0_1                     | (?, 13, 13, 512)\n",
      " Init  |  Yep!  | conv 3x3p1_1  +bnorm  leaky      | (?, 13, 13, 1024)\n",
      " Init  |  Yep!  | conv 3x3p1_1  +bnorm  leaky      | (?, 13, 13, 1024)\n",
      " Init  |  Yep!  | conv 1x1p0_1    linear           | (?, 13, 13, 30)\n",
      "-------+--------+----------------------------------+---------------\n",
      "GPU mode with 0.8 usage\n",
      "cfg/yolov2-tiny-voc-booklabel.cfg loss hyper-parameters:\n",
      "\tH       = 13\n",
      "\tW       = 13\n",
      "\tbox     = 5\n",
      "\tclasses = 1\n",
      "\tscales  = [1.0, 5.0, 1.0, 1.0]\n",
      "Building cfg/yolov2-tiny-voc-booklabel.cfg loss\n",
      "INFO:tensorflow:Summary name cfg/yolov2-tiny-voc-booklabel.cfg loss is illegal; using cfg/yolov2-tiny-voc-booklabel.cfg_loss instead.\n",
      "Building cfg/yolov2-tiny-voc-booklabel.cfg train op\n",
      "Finished in 3.3092310428619385s\n",
      "\n"
     ]
    }
   ],
   "source": [
    "# Initialize Darkflow\n",
    "options = {'model': model, # 'load': load, \n",
    "           'backup': backup,\n",
    "           'train': True,\n",
    "           'labels': labels, 'dataset': dataset, 'annotation': annotation,\n",
    "           'epoch': epoch, 'batch': batch, \n",
    "           'summary': summary, 'save': save, 'savepb': savepb,\n",
    "           'threshold': 0.1, 'json': True, \n",
    "           'gpu': gpu}\n",
    "\n",
    "tfnet = TFNet(options)"
   ]
  },
  {
   "cell_type": "code",
   "execution_count": 5,
   "metadata": {},
   "outputs": [
    {
     "name": "stdout",
     "output_type": "stream",
     "text": [
      "\n",
      "cfg/yolov2-tiny-voc-booklabel.cfg parsing ../../data/librarybooks/annotations/train\n",
      "Parsing for ['booklabel'] \n",
      "[====================>]100%  IMG_20180614_125638.xml\n",
      "Statistics:\n",
      "booklabel: 571\n",
      "Dataset size: 160\n",
      "Dataset of 160 instance(s)\n",
      "Training statistics: \n",
      "\tLearning rate : 1e-05\n",
      "\tBatch size    : 32\n",
      "\tEpoch number  : 1\n",
      "\tBackup every  : 51200\n",
      "step 1 - loss 107.95262908935547 - moving ave loss 107.95262908935547\n",
      "step 2 - loss 108.88513946533203 - moving ave loss 108.04588012695314\n",
      "step 3 - loss 109.02627563476562 - moving ave loss 108.1439196777344\n",
      "step 4 - loss 108.60143280029297 - moving ave loss 108.18967098999028\n",
      "step 5 - loss 108.66813659667969 - moving ave loss 108.23751755065922\n",
      "Finish 1 epoch(es)\n",
      "Checkpoint at step 5\n",
      "Done!\n"
     ]
    }
   ],
   "source": [
    "tfnet.train()\n",
    "if savepb:\n",
    "    tfnet.savepb()  # the model .pb file will be saved under built_graph/\n",
    "print('Done!')"
   ]
  },
  {
   "cell_type": "code",
   "execution_count": null,
   "metadata": {},
   "outputs": [],
   "source": []
  }
 ],
 "metadata": {
  "kernelspec": {
   "display_name": "Python [conda env:tf1.6]",
   "language": "python",
   "name": "conda-env-tf1.6-py"
  },
  "language_info": {
   "codemirror_mode": {
    "name": "ipython",
    "version": 3
   },
   "file_extension": ".py",
   "mimetype": "text/x-python",
   "name": "python",
   "nbconvert_exporter": "python",
   "pygments_lexer": "ipython3",
   "version": "3.6.5"
  }
 },
 "nbformat": 4,
 "nbformat_minor": 2
}
